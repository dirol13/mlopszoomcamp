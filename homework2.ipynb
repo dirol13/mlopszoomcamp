{
 "cells": [
  {
   "cell_type": "code",
   "execution_count": 1,
   "id": "b2bd82d7",
   "metadata": {},
   "outputs": [
    {
     "name": "stdout",
     "output_type": "stream",
     "text": [
      "Python 3.10.14\n"
     ]
    }
   ],
   "source": [
    "!python -V"
   ]
  },
  {
   "cell_type": "code",
   "execution_count": 9,
   "id": "41062d8a",
   "metadata": {},
   "outputs": [],
   "source": [
    "import pandas as pd"
   ]
  },
  {
   "cell_type": "code",
   "execution_count": 34,
   "id": "1464985f",
   "metadata": {},
   "outputs": [],
   "source": [
    "import mlflow\n",
    "\n",
    "\n",
    "mlflow.set_tracking_uri(\"sqlite:////Users/user/notebooks/mlflow.db\")"
   ]
  },
  {
   "cell_type": "code",
   "execution_count": 53,
   "id": "4c489ec5",
   "metadata": {},
   "outputs": [
    {
     "name": "stdout",
     "output_type": "stream",
     "text": [
      "  0%|                                                                                                                                                              | 0/15 [00:00<?, ?trial/s, best loss=?]"
     ]
    },
    {
     "name": "stderr",
     "output_type": "stream",
     "text": [
      "2024/09/13 19:55:19 INFO mlflow.utils.autologging_utils: Created MLflow autologging run with ID '006ad0786c7a43099da932c869d498ec', which will track hyperparameters, performance metrics, model artifacts, and lineage information for the current sklearn workflow\n",
      "\n",
      "2024/09/13 19:55:20 WARNING mlflow.sklearn: Failed to log training dataset information to MLflow Tracking. Reason: 'numpy.ndarray' object has no attribute 'toarray'\n",
      "\n",
      "2024/09/13 19:55:27 INFO mlflow.tracking._tracking_service.client: 🏃 View run nebulous-bear-991 at: http://127.0.0.1:5000/#/experiments/2/runs/006ad0786c7a43099da932c869d498ec.\n",
      "\n",
      "2024/09/13 19:55:27 INFO mlflow.tracking._tracking_service.client: 🧪 View experiment at: http://127.0.0.1:5000/#/experiments/2.\n",
      "\n"
     ]
    },
    {
     "name": "stdout",
     "output_type": "stream",
     "text": [
      "  7%|████████▊                                                                                                                            | 1/15 [00:08<02:02,  8.76s/trial, best loss: 5.370086069268862]"
     ]
    },
    {
     "name": "stderr",
     "output_type": "stream",
     "text": [
      "2024/09/13 19:55:28 WARNING mlflow.sklearn: Failed to log training dataset information to MLflow Tracking. Reason: 'numpy.ndarray' object has no attribute 'toarray'\n",
      "\n"
     ]
    },
    {
     "name": "stdout",
     "output_type": "stream",
     "text": [
      " 13%|█████████████████▋                                                                                                                   | 2/15 [00:13<01:20,  6.21s/trial, best loss: 5.370086069268862]"
     ]
    },
    {
     "name": "stderr",
     "output_type": "stream",
     "text": [
      "2024/09/13 19:55:33 WARNING mlflow.sklearn: Failed to log training dataset information to MLflow Tracking. Reason: 'numpy.ndarray' object has no attribute 'toarray'\n",
      "\n",
      "2024/09/13 19:55:36 WARNING mlflow.utils.autologging_utils: Encountered unexpected error during sklearn autologging: The following failures occurred while performing one or more logging operations: [MlflowException('Failed to perform one or more operations on the run with ID 8bd31999f91741bb993d93aa561f2af2. Failed operations: [RestException(\"INVALID_PARAMETER_VALUE: Changing param values is not allowed. Params were already logged=\\'[{\\'key\\': \\'max_depth\\', \\'old_value\\': \\'2\\', \\'new_value\\': \\'4\\'}, {\\'key\\': \\'min_samples_leaf\\', \\'old_value\\': \\'4\\', \\'new_value\\': \\'3\\'}, {\\'key\\': \\'min_samples_split\\', \\'old_value\\': \\'7\\', \\'new_value\\': \\'3\\'}, {\\'key\\': \\'n_estimators\\', \\'old_value\\': \\'22\\', \\'new_value\\': \\'16\\'}]\\' for run ID=\\'8bd31999f91741bb993d93aa561f2af2\\'.\")]')]\n",
      "\n"
     ]
    },
    {
     "name": "stdout",
     "output_type": "stream",
     "text": [
      " 20%|██████████████████████████▌                                                                                                          | 3/15 [00:16<00:58,  4.86s/trial, best loss: 5.370086069268862]"
     ]
    },
    {
     "name": "stderr",
     "output_type": "stream",
     "text": [
      "2024/09/13 19:55:36 WARNING mlflow.sklearn: Failed to log training dataset information to MLflow Tracking. Reason: 'numpy.ndarray' object has no attribute 'toarray'\n",
      "\n",
      "2024/09/13 19:55:41 WARNING mlflow.utils.autologging_utils: Encountered unexpected error during sklearn autologging: The following failures occurred while performing one or more logging operations: [MlflowException('Failed to perform one or more operations on the run with ID 8bd31999f91741bb993d93aa561f2af2. Failed operations: [RestException(\"INVALID_PARAMETER_VALUE: Changing param values is not allowed. Params were already logged=\\'[{\\'key\\': \\'max_depth\\', \\'old_value\\': \\'2\\', \\'new_value\\': \\'14\\'}, {\\'key\\': \\'min_samples_leaf\\', \\'old_value\\': \\'4\\', \\'new_value\\': \\'3\\'}, {\\'key\\': \\'min_samples_split\\', \\'old_value\\': \\'7\\', \\'new_value\\': \\'4\\'}, {\\'key\\': \\'n_estimators\\', \\'old_value\\': \\'22\\', \\'new_value\\': \\'26\\'}]\\' for run ID=\\'8bd31999f91741bb993d93aa561f2af2\\'.\")]')]\n",
      "\n"
     ]
    },
    {
     "name": "stdout",
     "output_type": "stream",
     "text": [
      " 27%|███████████████████████████████████▍                                                                                                 | 4/15 [00:21<00:55,  5.07s/trial, best loss: 5.357490752366866]"
     ]
    },
    {
     "name": "stderr",
     "output_type": "stream",
     "text": [
      "2024/09/13 19:55:41 WARNING mlflow.sklearn: Failed to log training dataset information to MLflow Tracking. Reason: 'numpy.ndarray' object has no attribute 'toarray'\n",
      "\n",
      "2024/09/13 19:55:45 WARNING mlflow.utils.autologging_utils: Encountered unexpected error during sklearn autologging: The following failures occurred while performing one or more logging operations: [MlflowException('Failed to perform one or more operations on the run with ID 8bd31999f91741bb993d93aa561f2af2. Failed operations: [RestException(\"INVALID_PARAMETER_VALUE: Changing param values is not allowed. Params were already logged=\\'[{\\'key\\': \\'max_depth\\', \\'old_value\\': \\'2\\', \\'new_value\\': \\'8\\'}, {\\'key\\': \\'min_samples_leaf\\', \\'old_value\\': \\'4\\', \\'new_value\\': \\'2\\'}, {\\'key\\': \\'min_samples_split\\', \\'old_value\\': \\'7\\', \\'new_value\\': \\'3\\'}, {\\'key\\': \\'n_estimators\\', \\'old_value\\': \\'22\\', \\'new_value\\': \\'30\\'}]\\' for run ID=\\'8bd31999f91741bb993d93aa561f2af2\\'.\")]')]\n",
      "\n"
     ]
    },
    {
     "name": "stdout",
     "output_type": "stream",
     "text": [
      " 33%|████████████████████████████████████████████▎                                                                                        | 5/15 [00:26<00:47,  4.80s/trial, best loss: 5.357490752366866]"
     ]
    },
    {
     "name": "stderr",
     "output_type": "stream",
     "text": [
      "2024/09/13 19:55:46 WARNING mlflow.sklearn: Failed to log training dataset information to MLflow Tracking. Reason: 'numpy.ndarray' object has no attribute 'toarray'\n",
      "\n",
      "2024/09/13 19:55:53 WARNING mlflow.utils.autologging_utils: Encountered unexpected error during sklearn autologging: The following failures occurred while performing one or more logging operations: [MlflowException('Failed to perform one or more operations on the run with ID 8bd31999f91741bb993d93aa561f2af2. Failed operations: [RestException(\"INVALID_PARAMETER_VALUE: Changing param values is not allowed. Params were already logged=\\'[{\\'key\\': \\'max_depth\\', \\'old_value\\': \\'2\\', \\'new_value\\': \\'15\\'}, {\\'key\\': \\'min_samples_leaf\\', \\'old_value\\': \\'4\\', \\'new_value\\': \\'2\\'}, {\\'key\\': \\'min_samples_split\\', \\'old_value\\': \\'7\\', \\'new_value\\': \\'3\\'}, {\\'key\\': \\'n_estimators\\', \\'old_value\\': \\'22\\', \\'new_value\\': \\'40\\'}]\\' for run ID=\\'8bd31999f91741bb993d93aa561f2af2\\'.\")]')]\n",
      "\n"
     ]
    },
    {
     "name": "stdout",
     "output_type": "stream",
     "text": [
      " 40%|█████████████████████████████████████████████████████▏                                                                               | 6/15 [00:33<00:51,  5.67s/trial, best loss: 5.354700855292386]"
     ]
    },
    {
     "name": "stderr",
     "output_type": "stream",
     "text": [
      "2024/09/13 19:55:53 WARNING mlflow.sklearn: Failed to log training dataset information to MLflow Tracking. Reason: 'numpy.ndarray' object has no attribute 'toarray'\n",
      "\n",
      "2024/09/13 19:56:00 WARNING mlflow.utils.autologging_utils: Encountered unexpected error during sklearn autologging: The following failures occurred while performing one or more logging operations: [MlflowException('Failed to perform one or more operations on the run with ID 8bd31999f91741bb993d93aa561f2af2. Failed operations: [RestException(\"INVALID_PARAMETER_VALUE: Changing param values is not allowed. Params were already logged=\\'[{\\'key\\': \\'max_depth\\', \\'old_value\\': \\'2\\', \\'new_value\\': \\'18\\'}, {\\'key\\': \\'min_samples_leaf\\', \\'old_value\\': \\'4\\', \\'new_value\\': \\'1\\'}, {\\'key\\': \\'min_samples_split\\', \\'old_value\\': \\'7\\', \\'new_value\\': \\'10\\'}, {\\'key\\': \\'n_estimators\\', \\'old_value\\': \\'22\\', \\'new_value\\': \\'38\\'}]\\' for run ID=\\'8bd31999f91741bb993d93aa561f2af2\\'.\")]')]\n",
      "\n"
     ]
    },
    {
     "name": "stdout",
     "output_type": "stream",
     "text": [
      " 47%|██████████████████████████████████████████████████████████████                                                                       | 7/15 [00:40<00:48,  6.12s/trial, best loss: 5.354700855292386]"
     ]
    },
    {
     "name": "stderr",
     "output_type": "stream",
     "text": [
      "2024/09/13 19:56:00 WARNING mlflow.sklearn: Failed to log training dataset information to MLflow Tracking. Reason: 'numpy.ndarray' object has no attribute 'toarray'\n",
      "\n",
      "2024/09/13 19:56:03 WARNING mlflow.utils.autologging_utils: Encountered unexpected error during sklearn autologging: The following failures occurred while performing one or more logging operations: [MlflowException('Failed to perform one or more operations on the run with ID 8bd31999f91741bb993d93aa561f2af2. Failed operations: [RestException(\"INVALID_PARAMETER_VALUE: Changing param values is not allowed. Params were already logged=\\'[{\\'key\\': \\'max_depth\\', \\'old_value\\': \\'2\\', \\'new_value\\': \\'7\\'}, {\\'key\\': \\'min_samples_leaf\\', \\'old_value\\': \\'4\\', \\'new_value\\': \\'3\\'}, {\\'key\\': \\'min_samples_split\\', \\'old_value\\': \\'7\\', \\'new_value\\': \\'9\\'}, {\\'key\\': \\'n_estimators\\', \\'old_value\\': \\'22\\', \\'new_value\\': \\'13\\'}]\\' for run ID=\\'8bd31999f91741bb993d93aa561f2af2\\'.\")]')]\n",
      "\n"
     ]
    },
    {
     "name": "stdout",
     "output_type": "stream",
     "text": [
      " 53%|██████████████████████████████████████████████████████████████████████▉                                                              | 8/15 [00:43<00:36,  5.26s/trial, best loss: 5.354700855292386]"
     ]
    },
    {
     "name": "stderr",
     "output_type": "stream",
     "text": [
      "2024/09/13 19:56:04 WARNING mlflow.sklearn: Failed to log training dataset information to MLflow Tracking. Reason: 'numpy.ndarray' object has no attribute 'toarray'\n",
      "\n",
      "2024/09/13 19:56:09 WARNING mlflow.utils.autologging_utils: Encountered unexpected error during sklearn autologging: The following failures occurred while performing one or more logging operations: [MlflowException('Failed to perform one or more operations on the run with ID 8bd31999f91741bb993d93aa561f2af2. Failed operations: [RestException(\"INVALID_PARAMETER_VALUE: Changing param values is not allowed. Params were already logged=\\'[{\\'key\\': \\'max_depth\\', \\'old_value\\': \\'2\\', \\'new_value\\': \\'12\\'}, {\\'key\\': \\'min_samples_leaf\\', \\'old_value\\': \\'4\\', \\'new_value\\': \\'1\\'}, {\\'key\\': \\'min_samples_split\\', \\'old_value\\': \\'7\\', \\'new_value\\': \\'8\\'}, {\\'key\\': \\'n_estimators\\', \\'old_value\\': \\'22\\', \\'new_value\\': \\'39\\'}]\\' for run ID=\\'8bd31999f91741bb993d93aa561f2af2\\'.\")]')]\n",
      "\n"
     ]
    },
    {
     "name": "stdout",
     "output_type": "stream",
     "text": [
      " 60%|███████████████████████████████████████████████████████████████████████████████▊                                                     | 9/15 [00:49<00:32,  5.41s/trial, best loss: 5.354700855292386]"
     ]
    },
    {
     "name": "stderr",
     "output_type": "stream",
     "text": [
      "2024/09/13 19:56:09 WARNING mlflow.sklearn: Failed to log training dataset information to MLflow Tracking. Reason: 'numpy.ndarray' object has no attribute 'toarray'\n",
      "\n",
      "2024/09/13 19:56:14 WARNING mlflow.utils.autologging_utils: Encountered unexpected error during sklearn autologging: The following failures occurred while performing one or more logging operations: [MlflowException('Failed to perform one or more operations on the run with ID 8bd31999f91741bb993d93aa561f2af2. Failed operations: [RestException(\"INVALID_PARAMETER_VALUE: Changing param values is not allowed. Params were already logged=\\'[{\\'key\\': \\'max_depth\\', \\'old_value\\': \\'2\\', \\'new_value\\': \\'14\\'}, {\\'key\\': \\'min_samples_leaf\\', \\'old_value\\': \\'4\\', \\'new_value\\': \\'2\\'}, {\\'key\\': \\'min_samples_split\\', \\'old_value\\': \\'7\\', \\'new_value\\': \\'6\\'}, {\\'key\\': \\'n_estimators\\', \\'old_value\\': \\'22\\', \\'new_value\\': \\'23\\'}]\\' for run ID=\\'8bd31999f91741bb993d93aa561f2af2\\'.\")]')]\n",
      "\n"
     ]
    },
    {
     "name": "stdout",
     "output_type": "stream",
     "text": [
      " 67%|████████████████████████████████████████████████████████████████████████████████████████                                            | 10/15 [00:54<00:26,  5.31s/trial, best loss: 5.354700855292386]"
     ]
    },
    {
     "name": "stderr",
     "output_type": "stream",
     "text": [
      "2024/09/13 19:56:14 WARNING mlflow.sklearn: Failed to log training dataset information to MLflow Tracking. Reason: 'numpy.ndarray' object has no attribute 'toarray'\n",
      "\n",
      "2024/09/13 19:56:19 WARNING mlflow.utils.autologging_utils: Encountered unexpected error during sklearn autologging: The following failures occurred while performing one or more logging operations: [MlflowException('Failed to perform one or more operations on the run with ID 8bd31999f91741bb993d93aa561f2af2. Failed operations: [RestException(\"INVALID_PARAMETER_VALUE: Changing param values is not allowed. Params were already logged=\\'[{\\'key\\': \\'max_depth\\', \\'old_value\\': \\'2\\', \\'new_value\\': \\'19\\'}, {\\'key\\': \\'min_samples_leaf\\', \\'old_value\\': \\'4\\', \\'new_value\\': \\'2\\'}, {\\'key\\': \\'min_samples_split\\', \\'old_value\\': \\'7\\', \\'new_value\\': \\'2\\'}, {\\'key\\': \\'n_estimators\\', \\'old_value\\': \\'22\\', \\'new_value\\': \\'11\\'}]\\' for run ID=\\'8bd31999f91741bb993d93aa561f2af2\\'.\")]')]\n",
      "\n"
     ]
    },
    {
     "name": "stdout",
     "output_type": "stream",
     "text": [
      " 73%|████████████████████████████████████████████████████████████████████████████████████████████████▊                                   | 11/15 [00:59<00:20,  5.06s/trial, best loss: 5.335419588556921]"
     ]
    },
    {
     "name": "stderr",
     "output_type": "stream",
     "text": [
      "2024/09/13 19:56:19 WARNING mlflow.sklearn: Failed to log training dataset information to MLflow Tracking. Reason: 'numpy.ndarray' object has no attribute 'toarray'\n",
      "\n",
      "2024/09/13 19:56:23 WARNING mlflow.utils.autologging_utils: Encountered unexpected error during sklearn autologging: The following failures occurred while performing one or more logging operations: [MlflowException('Failed to perform one or more operations on the run with ID 8bd31999f91741bb993d93aa561f2af2. Failed operations: [RestException(\"INVALID_PARAMETER_VALUE: Changing param values is not allowed. Params were already logged=\\'[{\\'key\\': \\'max_depth\\', \\'old_value\\': \\'2\\', \\'new_value\\': \\'7\\'}, {\\'key\\': \\'min_samples_leaf\\', \\'old_value\\': \\'4\\', \\'new_value\\': \\'1\\'}, {\\'key\\': \\'n_estimators\\', \\'old_value\\': \\'22\\', \\'new_value\\': \\'41\\'}]\\' for run ID=\\'8bd31999f91741bb993d93aa561f2af2\\'.\")]')]\n",
      "\n"
     ]
    },
    {
     "name": "stdout",
     "output_type": "stream",
     "text": [
      " 80%|█████████████████████████████████████████████████████████████████████████████████████████████████████████▌                          | 12/15 [01:03<00:14,  4.90s/trial, best loss: 5.335419588556921]"
     ]
    },
    {
     "name": "stderr",
     "output_type": "stream",
     "text": [
      "2024/09/13 19:56:23 WARNING mlflow.sklearn: Failed to log training dataset information to MLflow Tracking. Reason: 'numpy.ndarray' object has no attribute 'toarray'\n",
      "\n",
      "2024/09/13 19:56:27 WARNING mlflow.utils.autologging_utils: Encountered unexpected error during sklearn autologging: The following failures occurred while performing one or more logging operations: [MlflowException('Failed to perform one or more operations on the run with ID 8bd31999f91741bb993d93aa561f2af2. Failed operations: [RestException(\"INVALID_PARAMETER_VALUE: Changing param values is not allowed. Params were already logged=\\'[{\\'key\\': \\'max_depth\\', \\'old_value\\': \\'2\\', \\'new_value\\': \\'5\\'}, {\\'key\\': \\'min_samples_leaf\\', \\'old_value\\': \\'4\\', \\'new_value\\': \\'3\\'}, {\\'key\\': \\'min_samples_split\\', \\'old_value\\': \\'7\\', \\'new_value\\': \\'8\\'}, {\\'key\\': \\'n_estimators\\', \\'old_value\\': \\'22\\', \\'new_value\\': \\'21\\'}]\\' for run ID=\\'8bd31999f91741bb993d93aa561f2af2\\'.\")]')]\n",
      "\n"
     ]
    },
    {
     "name": "stdout",
     "output_type": "stream",
     "text": [
      " 87%|██████████████████████████████████████████████████████████████████████████████████████████████████████████████████▍                 | 13/15 [01:07<00:08,  4.47s/trial, best loss: 5.335419588556921]"
     ]
    },
    {
     "name": "stderr",
     "output_type": "stream",
     "text": [
      "2024/09/13 19:56:27 WARNING mlflow.sklearn: Failed to log training dataset information to MLflow Tracking. Reason: 'numpy.ndarray' object has no attribute 'toarray'\n",
      "\n",
      "2024/09/13 19:56:31 WARNING mlflow.utils.autologging_utils: Encountered unexpected error during sklearn autologging: The following failures occurred while performing one or more logging operations: [MlflowException('Failed to perform one or more operations on the run with ID 8bd31999f91741bb993d93aa561f2af2. Failed operations: [RestException(\"INVALID_PARAMETER_VALUE: Changing param values is not allowed. Params were already logged=\\'[{\\'key\\': \\'max_depth\\', \\'old_value\\': \\'2\\', \\'new_value\\': \\'18\\'}, {\\'key\\': \\'min_samples_leaf\\', \\'old_value\\': \\'4\\', \\'new_value\\': \\'1\\'}, {\\'key\\': \\'min_samples_split\\', \\'old_value\\': \\'7\\', \\'new_value\\': \\'6\\'}, {\\'key\\': \\'n_estimators\\', \\'old_value\\': \\'22\\', \\'new_value\\': \\'13\\'}]\\' for run ID=\\'8bd31999f91741bb993d93aa561f2af2\\'.\")]')]\n",
      "\n"
     ]
    },
    {
     "name": "stdout",
     "output_type": "stream",
     "text": [
      " 93%|███████████████████████████████████████████████████████████████████████████████████████████████████████████████████████████▏        | 14/15 [01:11<00:04,  4.48s/trial, best loss: 5.335419588556921]"
     ]
    },
    {
     "name": "stderr",
     "output_type": "stream",
     "text": [
      "2024/09/13 19:56:31 WARNING mlflow.sklearn: Failed to log training dataset information to MLflow Tracking. Reason: 'numpy.ndarray' object has no attribute 'toarray'\n",
      "\n",
      "2024/09/13 19:56:36 WARNING mlflow.utils.autologging_utils: Encountered unexpected error during sklearn autologging: The following failures occurred while performing one or more logging operations: [MlflowException('Failed to perform one or more operations on the run with ID 8bd31999f91741bb993d93aa561f2af2. Failed operations: [RestException(\"INVALID_PARAMETER_VALUE: Changing param values is not allowed. Params were already logged=\\'[{\\'key\\': \\'max_depth\\', \\'old_value\\': \\'2\\', \\'new_value\\': \\'20\\'}, {\\'key\\': \\'min_samples_leaf\\', \\'old_value\\': \\'4\\', \\'new_value\\': \\'1\\'}, {\\'key\\': \\'min_samples_split\\', \\'old_value\\': \\'7\\', \\'new_value\\': \\'9\\'}, {\\'key\\': \\'n_estimators\\', \\'old_value\\': \\'22\\', \\'new_value\\': \\'19\\'}]\\' for run ID=\\'8bd31999f91741bb993d93aa561f2af2\\'.\")]')]\n",
      "\n"
     ]
    },
    {
     "name": "stdout",
     "output_type": "stream",
     "text": [
      "100%|████████████████████████████████████████████████████████████████████████████████████████████████████████████████████████████████████| 15/15 [01:17<00:00,  5.14s/trial, best loss: 5.335419588556921]"
     ]
    },
    {
     "name": "stderr",
     "output_type": "stream",
     "text": [
      "2024/09/13 19:56:37 INFO mlflow.tracking._tracking_service.client: 🏃 View run serious-hawk-682 at: http://127.0.0.1:5000/#/experiments/2/runs/8bd31999f91741bb993d93aa561f2af2.\n",
      "2024/09/13 19:56:37 INFO mlflow.tracking._tracking_service.client: 🧪 View experiment at: http://127.0.0.1:5000/#/experiments/2.\n"
     ]
    },
    {
     "name": "stdout",
     "output_type": "stream",
     "text": [
      "\n"
     ]
    }
   ],
   "source": [
    "import os\n",
    "import pickle\n",
    "import mlflow\n",
    "import numpy as np\n",
    "from hyperopt import STATUS_OK, Trials, fmin, hp, tpe\n",
    "from hyperopt.pyll import scope\n",
    "from sklearn.ensemble import RandomForestRegressor\n",
    "from sklearn.metrics import root_mean_squared_error\n",
    "\n",
    "mlflow.set_tracking_uri(\"http://127.0.0.1:5000\")\n",
    "mlflow.set_experiment(\"random-forest-hyperopt\")\n",
    "\n",
    "\n",
    "def load_pickle(filename: str):\n",
    "    with open(filename, \"rb\") as f_in:\n",
    "        return pickle.load(f_in)\n",
    "    \n",
    "def run_optimization(data_path: str, num_trials: int):\n",
    "\n",
    "    X_train, y_train = load_pickle(os.path.join(data_path, \"train.pkl\"))\n",
    "    X_val, y_val = load_pickle(os.path.join(data_path, \"val.pkl\"))\n",
    "\n",
    "    def objective(params):\n",
    "\n",
    "        rf = RandomForestRegressor(**params)\n",
    "        rf.fit(X_train, y_train)\n",
    "        y_pred = rf.predict(X_val)\n",
    "        rmse = root_mean_squared_error(y_val, y_pred)\n",
    "        mlflow.log_metric(\"rmse\", rmse)\n",
    "\n",
    "        return {'loss': rmse, 'status': STATUS_OK}\n",
    "\n",
    "    search_space = {\n",
    "        'max_depth': scope.int(hp.quniform('max_depth', 1, 20, 1)),\n",
    "        'n_estimators': scope.int(hp.quniform('n_estimators', 10, 50, 1)),\n",
    "        'min_samples_split': scope.int(hp.quniform('min_samples_split', 2, 10, 1)),\n",
    "        'min_samples_leaf': scope.int(hp.quniform('min_samples_leaf', 1, 4, 1)),\n",
    "        'random_state': 42\n",
    "    }\n",
    "\n",
    "\n",
    "    rstate = np.random.default_rng(42)  # for reproducible results\n",
    "    fmin(\n",
    "        fn=objective,\n",
    "        space=search_space,\n",
    "        algo=tpe.suggest,\n",
    "        max_evals=num_trials,\n",
    "        trials=Trials(),\n",
    "        rstate=rstate\n",
    "    )\n",
    "    mlflow.end_run()\n",
    "\n",
    "run_optimization(\"./output\", 15)"
   ]
  },
  {
   "cell_type": "code",
   "execution_count": null,
   "id": "7483f858",
   "metadata": {},
   "outputs": [],
   "source": []
  },
  {
   "cell_type": "code",
   "execution_count": 6,
   "id": "c7e9baee",
   "metadata": {},
   "outputs": [],
   "source": [
    "from mlflow.tracking import MlflowClient\n",
    "MLFLOW_TRACKING_URI = \"sqlite:////Users/user/notebooks/mlflow.db\"\n",
    "client = MlflowClient(tracking_uri=MLFLOW_TRACKING_URI)"
   ]
  },
  {
   "cell_type": "code",
   "execution_count": 63,
   "id": "9e0671e6",
   "metadata": {},
   "outputs": [
    {
     "name": "stdout",
     "output_type": "stream",
     "text": [
      "run id: 8bd31999f91741bb993d93aa561f2af2, rmse: 5.3550\n",
      "run id: 6ff90da576d942ae8b21b644bf1aaae9, rmse: 5.3550\n",
      "run id: b16b2fe23c5244b8b8a93b5a075c138a, rmse: 5.3550\n"
     ]
    }
   ],
   "source": [
    "from mlflow.entities import ViewType\n",
    "\n",
    "runs = client.search_runs(\n",
    "    experiment_ids='2',\n",
    "    filter_string=\"metrics.rmse < 7\",\n",
    "    run_view_type=ViewType.ACTIVE_ONLY,\n",
    "    max_results=5,\n",
    "    order_by=[\"metrics.rmse ASC\"]\n",
    ")\n",
    "\n",
    "for run in runs:\n",
    "    print(f\"run id: {run.info.run_id}, rmse: {run.data.metrics['rmse']:.4f}\")"
   ]
  },
  {
   "cell_type": "code",
   "execution_count": 88,
   "id": "ae4a414c",
   "metadata": {},
   "outputs": [
    {
     "name": "stderr",
     "output_type": "stream",
     "text": [
      "2024/09/13 21:04:58 WARNING mlflow.utils.autologging_utils: MLflow sklearn autologging is known to be compatible with 0.24.1 <= scikit-learn <= 1.5.1, but the installed version is 1.5.2. If you encounter errors during autologging, try upgrading / downgrading scikit-learn to a compatible version, or try upgrading MLflow.\n"
     ]
    }
   ],
   "source": [
    "import os\n",
    "import pickle\n",
    "import mlflow\n",
    "\n",
    "from mlflow.entities import ViewType\n",
    "from mlflow.tracking import MlflowClient\n",
    "from sklearn.ensemble import RandomForestRegressor\n",
    "from sklearn.metrics import mean_squared_error\n",
    "\n",
    "HPO_EXPERIMENT_NAME = \"random-forest-hyperopt\"\n",
    "EXPERIMENT_NAME = \"random-forest-best-models\"\n",
    "RF_PARAMS = ['max_depth', 'n_estimators', 'min_samples_split', 'min_samples_leaf', 'random_state']\n",
    "\n",
    "mlflow.set_tracking_uri(\"http://127.0.0.1:5000\")\n",
    "mlflow.set_experiment(EXPERIMENT_NAME)\n",
    "mlflow.sklearn.autolog()\n",
    "\n",
    "\n",
    "def load_pickle(filename):\n",
    "    with open(filename, \"rb\") as f_in:\n",
    "        return pickle.load(f_in)\n",
    "\n",
    "\n",
    "def train_and_log_model(data_path, params):\n",
    "    X_train, y_train = load_pickle(os.path.join(data_path, \"train.pkl\"))\n",
    "    X_val, y_val = load_pickle(os.path.join(data_path, \"val.pkl\"))\n",
    "    X_test, y_test = load_pickle(os.path.join(data_path, \"test.pkl\"))\n",
    "\n",
    "    with mlflow.start_run():\n",
    "        new_params = {}\n",
    "        for param in RF_PARAMS:\n",
    "            new_params[param] = int(params[param])\n",
    "\n",
    "        rf = RandomForestRegressor(**new_params)\n",
    "        rf.fit(X_train, y_train)\n",
    "\n",
    "        # Evaluate model on the validation and test sets\n",
    "        val_rmse = mean_squared_error(y_val, rf.predict(X_val), squared=False)\n",
    "        mlflow.log_metric(\"val_rmse\", val_rmse)\n",
    "        test_rmse = mean_squared_error(y_test, rf.predict(X_test), squared=False)\n",
    "        mlflow.log_metric(\"test_rmse\", test_rmse)"
   ]
  },
  {
   "cell_type": "code",
   "execution_count": 91,
   "id": "9ea3d609",
   "metadata": {},
   "outputs": [],
   "source": [
    "def run_register_model(data_path: str, top_n: int):\n",
    "\n",
    "    client = MlflowClient()\n",
    "\n",
    "    # Retrieve the top_n model runs and log the models\n",
    "    experiment = client.get_experiment_by_name(HPO_EXPERIMENT_NAME)\n",
    "    runs = client.search_runs(\n",
    "        experiment_ids=experiment.experiment_id,\n",
    "        run_view_type=ViewType.ACTIVE_ONLY,\n",
    "        max_results=top_n,\n",
    "        order_by=[\"metrics.rmse ASC\"]\n",
    "    )\n",
    "    for run in runs:\n",
    "        train_and_log_model(data_path=data_path, params=run.data.params)\n",
    "\n",
    "    # Select the model with the lowest test RMSE\n",
    "    experiment = client.get_experiment_by_name(EXPERIMENT_NAME)\n",
    "    best_run = client.search_runs(\n",
    "        experiment_ids=experiment.experiment_id,\n",
    "        run_view_type=ViewType.ACTIVE_ONLY,\n",
    "        max_results=top_n,\n",
    "        order_by=[\"metrics.test_rmse ASC\"]\n",
    "    )[0]\n",
    "    # Register the best model\n",
    "    run_id = best_run.info.run_id\n",
    "    print(f\"{run_id}\")\n",
    "    model_uri = f\"runs:/{run_id}/model\"\n",
    "    mlflow.register_model(model_uri, name=\"rf-best-model\")"
   ]
  },
  {
   "cell_type": "code",
   "execution_count": 92,
   "id": "7120a678",
   "metadata": {},
   "outputs": [
    {
     "name": "stderr",
     "output_type": "stream",
     "text": [
      "2024/09/13 21:07:44 WARNING mlflow.sklearn: Failed to log training dataset information to MLflow Tracking. Reason: 'numpy.ndarray' object has no attribute 'toarray'\n",
      "/opt/miniconda3/lib/python3.10/site-packages/sklearn/metrics/_regression.py:492: FutureWarning: 'squared' is deprecated in version 1.4 and will be removed in 1.6. To calculate the root mean squared error, use the function'root_mean_squared_error'.\n",
      "  warnings.warn(\n",
      "/opt/miniconda3/lib/python3.10/site-packages/sklearn/metrics/_regression.py:492: FutureWarning: 'squared' is deprecated in version 1.4 and will be removed in 1.6. To calculate the root mean squared error, use the function'root_mean_squared_error'.\n",
      "  warnings.warn(\n",
      "2024/09/13 21:07:51 INFO mlflow.tracking._tracking_service.client: 🏃 View run inquisitive-bass-362 at: http://127.0.0.1:5000/#/experiments/3/runs/664319d3ec2b47a689b4c1c2425669fd.\n",
      "2024/09/13 21:07:51 INFO mlflow.tracking._tracking_service.client: 🧪 View experiment at: http://127.0.0.1:5000/#/experiments/3.\n",
      "2024/09/13 21:07:51 WARNING mlflow.sklearn: Failed to log training dataset information to MLflow Tracking. Reason: 'numpy.ndarray' object has no attribute 'toarray'\n",
      "/opt/miniconda3/lib/python3.10/site-packages/sklearn/metrics/_regression.py:492: FutureWarning: 'squared' is deprecated in version 1.4 and will be removed in 1.6. To calculate the root mean squared error, use the function'root_mean_squared_error'.\n",
      "  warnings.warn(\n",
      "/opt/miniconda3/lib/python3.10/site-packages/sklearn/metrics/_regression.py:492: FutureWarning: 'squared' is deprecated in version 1.4 and will be removed in 1.6. To calculate the root mean squared error, use the function'root_mean_squared_error'.\n",
      "  warnings.warn(\n",
      "2024/09/13 21:08:00 INFO mlflow.tracking._tracking_service.client: 🏃 View run shivering-cat-390 at: http://127.0.0.1:5000/#/experiments/3/runs/70adf3b5b9f04846a28457db24e7a4c8.\n",
      "2024/09/13 21:08:00 INFO mlflow.tracking._tracking_service.client: 🧪 View experiment at: http://127.0.0.1:5000/#/experiments/3.\n",
      "2024/09/13 21:08:00 WARNING mlflow.sklearn: Failed to log training dataset information to MLflow Tracking. Reason: 'numpy.ndarray' object has no attribute 'toarray'\n",
      "/opt/miniconda3/lib/python3.10/site-packages/sklearn/metrics/_regression.py:492: FutureWarning: 'squared' is deprecated in version 1.4 and will be removed in 1.6. To calculate the root mean squared error, use the function'root_mean_squared_error'.\n",
      "  warnings.warn(\n",
      "/opt/miniconda3/lib/python3.10/site-packages/sklearn/metrics/_regression.py:492: FutureWarning: 'squared' is deprecated in version 1.4 and will be removed in 1.6. To calculate the root mean squared error, use the function'root_mean_squared_error'.\n",
      "  warnings.warn(\n",
      "2024/09/13 21:08:08 INFO mlflow.tracking._tracking_service.client: 🏃 View run delicate-stork-50 at: http://127.0.0.1:5000/#/experiments/3/runs/a0c250206f294e6fa1eb0dc271ff5729.\n",
      "2024/09/13 21:08:08 INFO mlflow.tracking._tracking_service.client: 🧪 View experiment at: http://127.0.0.1:5000/#/experiments/3.\n",
      "2024/09/13 21:08:08 WARNING mlflow.sklearn: Failed to log training dataset information to MLflow Tracking. Reason: 'numpy.ndarray' object has no attribute 'toarray'\n",
      "/opt/miniconda3/lib/python3.10/site-packages/sklearn/metrics/_regression.py:492: FutureWarning: 'squared' is deprecated in version 1.4 and will be removed in 1.6. To calculate the root mean squared error, use the function'root_mean_squared_error'.\n",
      "  warnings.warn(\n",
      "/opt/miniconda3/lib/python3.10/site-packages/sklearn/metrics/_regression.py:492: FutureWarning: 'squared' is deprecated in version 1.4 and will be removed in 1.6. To calculate the root mean squared error, use the function'root_mean_squared_error'.\n",
      "  warnings.warn(\n",
      "2024/09/13 21:08:15 INFO mlflow.tracking._tracking_service.client: 🏃 View run unique-swan-283 at: http://127.0.0.1:5000/#/experiments/3/runs/73286a8ef43a4187b4f190c520bf2bac.\n",
      "2024/09/13 21:08:15 INFO mlflow.tracking._tracking_service.client: 🧪 View experiment at: http://127.0.0.1:5000/#/experiments/3.\n",
      "2024/09/13 21:08:15 WARNING mlflow.sklearn: Failed to log training dataset information to MLflow Tracking. Reason: 'numpy.ndarray' object has no attribute 'toarray'\n",
      "/opt/miniconda3/lib/python3.10/site-packages/sklearn/metrics/_regression.py:492: FutureWarning: 'squared' is deprecated in version 1.4 and will be removed in 1.6. To calculate the root mean squared error, use the function'root_mean_squared_error'.\n",
      "  warnings.warn(\n",
      "/opt/miniconda3/lib/python3.10/site-packages/sklearn/metrics/_regression.py:492: FutureWarning: 'squared' is deprecated in version 1.4 and will be removed in 1.6. To calculate the root mean squared error, use the function'root_mean_squared_error'.\n",
      "  warnings.warn(\n",
      "2024/09/13 21:08:21 INFO mlflow.tracking._tracking_service.client: 🏃 View run industrious-crow-930 at: http://127.0.0.1:5000/#/experiments/3/runs/b1057562a10141309a3b2e484b9de502.\n",
      "2024/09/13 21:08:21 INFO mlflow.tracking._tracking_service.client: 🧪 View experiment at: http://127.0.0.1:5000/#/experiments/3.\n",
      "Registered model 'rf-best-model' already exists. Creating a new version of this model...\n",
      "2024/09/13 21:08:21 INFO mlflow.store.model_registry.abstract_store: Waiting up to 300 seconds for model version to finish creation. Model name: rf-best-model, version 5\n"
     ]
    },
    {
     "name": "stdout",
     "output_type": "stream",
     "text": [
      "a0c250206f294e6fa1eb0dc271ff5729\n"
     ]
    },
    {
     "name": "stderr",
     "output_type": "stream",
     "text": [
      "Created version '5' of model 'rf-best-model'.\n"
     ]
    }
   ],
   "source": [
    "run_register_model(\"./output\", 5)"
   ]
  }
 ],
 "metadata": {
  "interpreter": {
   "hash": "0848c9d6c7d415ad6c477ff7ff8e98694d1a4aa96d0deee89244642e6b630036"
  },
  "kernelspec": {
   "display_name": "Python 3 (ipykernel)",
   "language": "python",
   "name": "python3"
  },
  "language_info": {
   "codemirror_mode": {
    "name": "ipython",
    "version": 3
   },
   "file_extension": ".py",
   "mimetype": "text/x-python",
   "name": "python",
   "nbconvert_exporter": "python",
   "pygments_lexer": "ipython3",
   "version": "3.10.14"
  }
 },
 "nbformat": 4,
 "nbformat_minor": 5
}
